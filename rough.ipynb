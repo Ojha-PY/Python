{
 "cells": [
  {
   "cell_type": "code",
   "execution_count": null,
   "metadata": {},
   "outputs": [
    {
     "name": "stdout",
     "output_type": "stream",
     "text": [
      "1. Add Task\n",
      "2. View Tasks\n",
      "3. Delete Task\n",
      "4. Save and Exit\n",
      "Invalid choice, please try again.\n",
      "1. Add Task\n",
      "2. View Tasks\n",
      "3. Delete Task\n",
      "4. Save and Exit\n",
      "Invalid choice, please try again.\n",
      "1. Add Task\n",
      "2. View Tasks\n",
      "3. Delete Task\n",
      "4. Save and Exit\n",
      "Invalid choice, please try again.\n",
      "1. Add Task\n",
      "2. View Tasks\n",
      "3. Delete Task\n",
      "4. Save and Exit\n",
      "1. Add Task\n",
      "2. View Tasks\n",
      "3. Delete Task\n",
      "4. Save and Exit\n",
      "Invalid choice, please try again.\n",
      "1. Add Task\n",
      "2. View Tasks\n",
      "3. Delete Task\n",
      "4. Save and Exit\n"
     ]
    }
   ],
   "source": [
    "# Sure! Here's the complete source code for the simple to-do list application in Python:\n",
    "\n",
    "\n",
    "def display_menu():\n",
    "    print(\"1. Add Task\")\n",
    "    print(\"2. View Tasks\")\n",
    "    print(\"3. Delete Task\")\n",
    "    print(\"4. Save and Exit\")\n",
    "\n",
    "def add_task(tasks):\n",
    "    task = input(\"Enter a task: \")\n",
    "    tasks.append(task)\n",
    "\n",
    "def view_tasks(tasks):\n",
    "    for i, task in enumerate(tasks, 1):\n",
    "        print(f\"{i}. {task}\")\n",
    "\n",
    "def delete_task(tasks):\n",
    "    view_tasks(tasks)\n",
    "    task_num = int(input(\"Enter the task number to delete: \"))\n",
    "    if 0 < task_num <= len(tasks):\n",
    "        tasks.pop(task_num - 1)\n",
    "    else:\n",
    "        print(\"Invalid task number\")\n",
    "\n",
    "def save_tasks(tasks, filename):\n",
    "    with open(filename, 'w') as file:\n",
    "        for task in tasks:\n",
    "            file.write(task + \"\\n\")\n",
    "\n",
    "def load_tasks(filename):\n",
    "    try:\n",
    "        with open(filename, 'r') as file:\n",
    "            tasks = [line.strip() for line in file]\n",
    "    except FileNotFoundError:\n",
    "        tasks = []\n",
    "    return tasks\n",
    "\n",
    "def main():\n",
    "    filename = \"tasks.txt\"\n",
    "    tasks = load_tasks(filename)\n",
    "    \n",
    "    while True:\n",
    "        display_menu()\n",
    "        choice = input(\"Choose an option: \")\n",
    "        \n",
    "        if choice == '1':\n",
    "            add_task(tasks)\n",
    "        elif choice == '2':\n",
    "            view_tasks(tasks)\n",
    "        elif choice == '3':\n",
    "            delete_task(tasks)\n",
    "        elif choice == '4':\n",
    "            save_tasks(tasks, filename)\n",
    "            break\n",
    "        else:\n",
    "            print(\"Invalid choice, please try again.\")\n",
    "\n",
    "if __name__ == \"__main__\":\n",
    "    main()\n",
    "\n",
    "\n",
    "# This code provides a basic framework for a to-do list application. You can run it in your Python environment and start adding, viewing, and deleting tasks. If you have any questions or need further assistance, feel free to ask! Happy coding! 😊"
   ]
  },
  {
   "cell_type": "code",
   "execution_count": 1,
   "metadata": {},
   "outputs": [
    {
     "data": {
      "text/plain": [
       "False"
      ]
     },
     "execution_count": 1,
     "metadata": {},
     "output_type": "execute_result"
    }
   ],
   "source": [
    "2<3>10"
   ]
  },
  {
   "cell_type": "code",
   "execution_count": 3,
   "metadata": {},
   "outputs": [
    {
     "data": {
      "text/plain": [
       "True"
      ]
     },
     "execution_count": 3,
     "metadata": {},
     "output_type": "execute_result"
    }
   ],
   "source": [
    "2<=3>=1\n"
   ]
  },
  {
   "cell_type": "code",
   "execution_count": 7,
   "metadata": {},
   "outputs": [
    {
     "name": "stdout",
     "output_type": "stream",
     "text": [
      "<function mix at 0x104e56670>\n",
      "None\n"
     ]
    }
   ],
   "source": [
    "def mix (a,b):\n",
    "    a+b\n",
    "    print(mix)\n",
    "x=10\n",
    "b=20\n",
    "print(mix(x,b))"
   ]
  },
  {
   "cell_type": "code",
   "execution_count": 9,
   "metadata": {},
   "outputs": [
    {
     "name": "stdout",
     "output_type": "stream",
     "text": [
      "30\n"
     ]
    }
   ],
   "source": [
    "def mix(a, b):\n",
    "    return a + b  # Return the sum of a and b\n",
    "\n",
    "x = 10\n",
    "b = 20\n",
    "print(mix(x, b))  # This will now print the result of mix(x, b)"
   ]
  },
  {
   "cell_type": "code",
   "execution_count": 11,
   "metadata": {},
   "outputs": [
    {
     "ename": "TypeError",
     "evalue": "'int' object is not iterable",
     "output_type": "error",
     "traceback": [
      "\u001b[0;31m---------------------------------------------------------------------------\u001b[0m",
      "\u001b[0;31mTypeError\u001b[0m                                 Traceback (most recent call last)",
      "Cell \u001b[0;32mIn[11], line 3\u001b[0m\n\u001b[1;32m      1\u001b[0m c\u001b[38;5;241m=\u001b[39m\u001b[38;5;241m10\u001b[39m\n\u001b[1;32m      2\u001b[0m f\u001b[38;5;241m=\u001b[39m\u001b[38;5;241m20\u001b[39m\n\u001b[0;32m----> 3\u001b[0m \u001b[38;5;28mprint\u001b[39m(\u001b[38;5;28;43msum\u001b[39;49m\u001b[43m(\u001b[49m\u001b[43mc\u001b[49m\u001b[43m,\u001b[49m\u001b[43mf\u001b[49m\u001b[43m)\u001b[49m)\n",
      "\u001b[0;31mTypeError\u001b[0m: 'int' object is not iterable"
     ]
    }
   ],
   "source": [
    "c=10\n",
    "f=20\n",
    "print(sum(c,f))"
   ]
  },
  {
   "cell_type": "code",
   "execution_count": 6,
   "metadata": {},
   "outputs": [
    {
     "ename": "AttributeError",
     "evalue": "'list' object has no attribute 'stripe'",
     "output_type": "error",
     "traceback": [
      "\u001b[0;31m---------------------------------------------------------------------------\u001b[0m",
      "\u001b[0;31mAttributeError\u001b[0m                            Traceback (most recent call last)",
      "Cell \u001b[0;32mIn[6], line 4\u001b[0m\n\u001b[1;32m      2\u001b[0m  data\u001b[38;5;241m=\u001b[39mf\u001b[38;5;241m.\u001b[39mreadlines()\n\u001b[1;32m      3\u001b[0m \u001b[38;5;66;03m#  data.redline()\u001b[39;00m\n\u001b[0;32m----> 4\u001b[0m  \u001b[38;5;28mprint\u001b[39m(\u001b[43mdata\u001b[49m\u001b[38;5;241;43m.\u001b[39;49m\u001b[43mstripe\u001b[49m())\n",
      "\u001b[0;31mAttributeError\u001b[0m: 'list' object has no attribute 'stripe'"
     ]
    }
   ],
   "source": [
    "with open ('test3.txt','r')as f:\n",
    "     data=f.readlines()\n",
    "    #  data.redline()\n",
    "     print(data.stripe())"
   ]
  },
  {
   "cell_type": "code",
   "execution_count": 4,
   "metadata": {},
   "outputs": [
    {
     "name": "stdout",
     "output_type": "stream",
     "text": [
      "Resources for More Basic Practice\n",
      "Before you begin your assessment, I wanted to point out some helpful links for practice (don't worry about being able to do these exercises, I just want you to be aware of the links so you can visit them later, since we still haven't discussed functions, you won't be able to utilize a lot of these resources yet!):\n",
      "\n",
      "Basic Practice:\n",
      "\n",
      "http://codingbat.com/python\n",
      "\n",
      "More Mathematical (and Harder) Practice:\n",
      "\n",
      "https://projecteuler.net/archives\n",
      "\n",
      "List of Practice Problems:\n",
      "\n",
      "http://www.codeabbey.com/index/task_list\n",
      "\n",
      "A SubReddit Devoted to Daily Practice Problems:\n",
      "\n",
      "https://www.reddit.com/r/dailyprogrammer\n",
      "\n",
      "A very tricky website with very few hints and touch problems (Not for beginners but still interesting)\n",
      "\n",
      "http://www.pythonchallenge.com/\n"
     ]
    }
   ],
   "source": [
    "with open('test3.txt', 'r') as f:\n",
    "    for line in f:\n",
    "        print(line.strip())  # Prints each line without leading/trailing whitespace"
   ]
  },
  {
   "cell_type": "code",
   "execution_count": 5,
   "metadata": {},
   "outputs": [
    {
     "name": "stdout",
     "output_type": "stream",
     "text": [
      "['Resources for More Basic Practice\\n', \"Before you begin your assessment, I wanted to point out some helpful links for practice (don't worry about being able to do these exercises, I just want you to be aware of the links so you can visit them later, since we still haven't discussed functions, you won't be able to utilize a lot of these resources yet!):\\n\", '\\n', 'Basic Practice:\\n', '\\n', 'http://codingbat.com/python\\n', '\\n', 'More Mathematical (and Harder) Practice:\\n', '\\n', 'https://projecteuler.net/archives\\n', '\\n', 'List of Practice Problems:\\n', '\\n', 'http://www.codeabbey.com/index/task_list\\n', '\\n', 'A SubReddit Devoted to Daily Practice Problems:\\n', '\\n', 'https://www.reddit.com/r/dailyprogrammer\\n', '\\n', 'A very tricky website with very few hints and touch problems (Not for beginners but still interesting)\\n', '\\n', 'http://www.pythonchallenge.com/']\n"
     ]
    }
   ],
   "source": [
    "with open('test3.txt', 'r') as f:\n",
    "    data = f.readlines()  # Reads all lines from the file into a list\n",
    "    print(data)           # Prints the list of lines"
   ]
  },
  {
   "cell_type": "code",
   "execution_count": null,
   "metadata": {},
   "outputs": [],
   "source": []
  }
 ],
 "metadata": {
  "kernelspec": {
   "display_name": "Python 3",
   "language": "python",
   "name": "python3"
  },
  "language_info": {
   "codemirror_mode": {
    "name": "ipython",
    "version": 3
   },
   "file_extension": ".py",
   "mimetype": "text/x-python",
   "name": "python",
   "nbconvert_exporter": "python",
   "pygments_lexer": "ipython3",
   "version": "3.9.6"
  }
 },
 "nbformat": 4,
 "nbformat_minor": 2
}
